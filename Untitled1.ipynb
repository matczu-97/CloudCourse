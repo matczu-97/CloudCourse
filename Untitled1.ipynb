{
  "nbformat": 4,
  "nbformat_minor": 0,
  "metadata": {
    "colab": {
      "provenance": [],
      "authorship_tag": "ABX9TyONZPxQKjp4x9zyoD8BCmeG",
      "include_colab_link": true
    },
    "kernelspec": {
      "name": "python3",
      "display_name": "Python 3"
    },
    "language_info": {
      "name": "python"
    },
    "widgets": {
      "application/vnd.jupyter.widget-state+json": {
        "e136d41a6c1142a9bd1ad475ec4babc4": {
          "model_module": "@jupyter-widgets/controls",
          "model_name": "DropdownModel",
          "model_module_version": "1.5.0",
          "state": {
            "_dom_classes": [],
            "_model_module": "@jupyter-widgets/controls",
            "_model_module_version": "1.5.0",
            "_model_name": "DropdownModel",
            "_options_labels": [
              "matan czuckermann",
              "naor azran"
            ],
            "_view_count": null,
            "_view_module": "@jupyter-widgets/controls",
            "_view_module_version": "1.5.0",
            "_view_name": "DropdownView",
            "description": "Student:",
            "description_tooltip": null,
            "disabled": false,
            "index": null,
            "layout": "IPY_MODEL_c143bdcb13d74f9db8197db14623730e",
            "style": "IPY_MODEL_6bb3e15484994b45803fc1749ab38c2e"
          }
        },
        "c143bdcb13d74f9db8197db14623730e": {
          "model_module": "@jupyter-widgets/base",
          "model_name": "LayoutModel",
          "model_module_version": "1.2.0",
          "state": {
            "_model_module": "@jupyter-widgets/base",
            "_model_module_version": "1.2.0",
            "_model_name": "LayoutModel",
            "_view_count": null,
            "_view_module": "@jupyter-widgets/base",
            "_view_module_version": "1.2.0",
            "_view_name": "LayoutView",
            "align_content": null,
            "align_items": null,
            "align_self": null,
            "border": null,
            "bottom": null,
            "display": null,
            "flex": null,
            "flex_flow": null,
            "grid_area": null,
            "grid_auto_columns": null,
            "grid_auto_flow": null,
            "grid_auto_rows": null,
            "grid_column": null,
            "grid_gap": null,
            "grid_row": null,
            "grid_template_areas": null,
            "grid_template_columns": null,
            "grid_template_rows": null,
            "height": null,
            "justify_content": null,
            "justify_items": null,
            "left": null,
            "margin": null,
            "max_height": null,
            "max_width": null,
            "min_height": null,
            "min_width": null,
            "object_fit": null,
            "object_position": null,
            "order": null,
            "overflow": null,
            "overflow_x": null,
            "overflow_y": null,
            "padding": null,
            "right": null,
            "top": null,
            "visibility": null,
            "width": "400px"
          }
        },
        "6bb3e15484994b45803fc1749ab38c2e": {
          "model_module": "@jupyter-widgets/controls",
          "model_name": "DescriptionStyleModel",
          "model_module_version": "1.5.0",
          "state": {
            "_model_module": "@jupyter-widgets/controls",
            "_model_module_version": "1.5.0",
            "_model_name": "DescriptionStyleModel",
            "_view_count": null,
            "_view_module": "@jupyter-widgets/base",
            "_view_module_version": "1.2.0",
            "_view_name": "StyleView",
            "description_width": "initial"
          }
        },
        "eb0f18c3f0d84e12afde5236a60393b8": {
          "model_module": "@jupyter-widgets/controls",
          "model_name": "TextareaModel",
          "model_module_version": "1.5.0",
          "state": {
            "_dom_classes": [],
            "_model_module": "@jupyter-widgets/controls",
            "_model_module_version": "1.5.0",
            "_model_name": "TextareaModel",
            "_view_count": null,
            "_view_module": "@jupyter-widgets/controls",
            "_view_module_version": "1.5.0",
            "_view_name": "TextareaView",
            "continuous_update": true,
            "description": "email:",
            "description_tooltip": null,
            "disabled": true,
            "layout": "IPY_MODEL_834fd1ca648940bdbb82f44d91a1d966",
            "placeholder": "​",
            "rows": null,
            "style": "IPY_MODEL_b0970cac465d46bea8a376469166eae1",
            "value": ""
          }
        },
        "834fd1ca648940bdbb82f44d91a1d966": {
          "model_module": "@jupyter-widgets/base",
          "model_name": "LayoutModel",
          "model_module_version": "1.2.0",
          "state": {
            "_model_module": "@jupyter-widgets/base",
            "_model_module_version": "1.2.0",
            "_model_name": "LayoutModel",
            "_view_count": null,
            "_view_module": "@jupyter-widgets/base",
            "_view_module_version": "1.2.0",
            "_view_name": "LayoutView",
            "align_content": null,
            "align_items": null,
            "align_self": null,
            "border": null,
            "bottom": null,
            "display": null,
            "flex": null,
            "flex_flow": null,
            "grid_area": null,
            "grid_auto_columns": null,
            "grid_auto_flow": null,
            "grid_auto_rows": null,
            "grid_column": null,
            "grid_gap": null,
            "grid_row": null,
            "grid_template_areas": null,
            "grid_template_columns": null,
            "grid_template_rows": null,
            "height": "40px",
            "justify_content": null,
            "justify_items": null,
            "left": null,
            "margin": null,
            "max_height": null,
            "max_width": null,
            "min_height": null,
            "min_width": null,
            "object_fit": null,
            "object_position": null,
            "order": null,
            "overflow": null,
            "overflow_x": null,
            "overflow_y": null,
            "padding": null,
            "right": null,
            "top": null,
            "visibility": null,
            "width": "300px"
          }
        },
        "b0970cac465d46bea8a376469166eae1": {
          "model_module": "@jupyter-widgets/controls",
          "model_name": "DescriptionStyleModel",
          "model_module_version": "1.5.0",
          "state": {
            "_model_module": "@jupyter-widgets/controls",
            "_model_module_version": "1.5.0",
            "_model_name": "DescriptionStyleModel",
            "_view_count": null,
            "_view_module": "@jupyter-widgets/base",
            "_view_module_version": "1.2.0",
            "_view_name": "StyleView",
            "description_width": ""
          }
        },
        "2c0adb4da7cd4b589fb550a170f813b6": {
          "model_module": "@jupyter-widgets/controls",
          "model_name": "TextareaModel",
          "model_module_version": "1.5.0",
          "state": {
            "_dom_classes": [],
            "_model_module": "@jupyter-widgets/controls",
            "_model_module_version": "1.5.0",
            "_model_name": "TextareaModel",
            "_view_count": null,
            "_view_module": "@jupyter-widgets/controls",
            "_view_module_version": "1.5.0",
            "_view_name": "TextareaView",
            "continuous_update": true,
            "description": "courses:",
            "description_tooltip": null,
            "disabled": true,
            "layout": "IPY_MODEL_faf4ded68191428394cea66bb9acf7fa",
            "placeholder": "​",
            "rows": null,
            "style": "IPY_MODEL_5d2b2bb9c5144ec294c081c0bc201a3b",
            "value": ""
          }
        },
        "faf4ded68191428394cea66bb9acf7fa": {
          "model_module": "@jupyter-widgets/base",
          "model_name": "LayoutModel",
          "model_module_version": "1.2.0",
          "state": {
            "_model_module": "@jupyter-widgets/base",
            "_model_module_version": "1.2.0",
            "_model_name": "LayoutModel",
            "_view_count": null,
            "_view_module": "@jupyter-widgets/base",
            "_view_module_version": "1.2.0",
            "_view_name": "LayoutView",
            "align_content": null,
            "align_items": null,
            "align_self": null,
            "border": null,
            "bottom": null,
            "display": null,
            "flex": null,
            "flex_flow": null,
            "grid_area": null,
            "grid_auto_columns": null,
            "grid_auto_flow": null,
            "grid_auto_rows": null,
            "grid_column": null,
            "grid_gap": null,
            "grid_row": null,
            "grid_template_areas": null,
            "grid_template_columns": null,
            "grid_template_rows": null,
            "height": "40px",
            "justify_content": null,
            "justify_items": null,
            "left": null,
            "margin": null,
            "max_height": null,
            "max_width": null,
            "min_height": null,
            "min_width": null,
            "object_fit": null,
            "object_position": null,
            "order": null,
            "overflow": null,
            "overflow_x": null,
            "overflow_y": null,
            "padding": null,
            "right": null,
            "top": null,
            "visibility": null,
            "width": "300px"
          }
        },
        "5d2b2bb9c5144ec294c081c0bc201a3b": {
          "model_module": "@jupyter-widgets/controls",
          "model_name": "DescriptionStyleModel",
          "model_module_version": "1.5.0",
          "state": {
            "_model_module": "@jupyter-widgets/controls",
            "_model_module_version": "1.5.0",
            "_model_name": "DescriptionStyleModel",
            "_view_count": null,
            "_view_module": "@jupyter-widgets/base",
            "_view_module_version": "1.2.0",
            "_view_name": "StyleView",
            "description_width": ""
          }
        },
        "40157e08f6ec4ca29932479f183bca85": {
          "model_module": "@jupyter-widgets/controls",
          "model_name": "TextareaModel",
          "model_module_version": "1.5.0",
          "state": {
            "_dom_classes": [],
            "_model_module": "@jupyter-widgets/controls",
            "_model_module_version": "1.5.0",
            "_model_name": "TextareaModel",
            "_view_count": null,
            "_view_module": "@jupyter-widgets/controls",
            "_view_module_version": "1.5.0",
            "_view_name": "TextareaView",
            "continuous_update": true,
            "description": "link:",
            "description_tooltip": null,
            "disabled": true,
            "layout": "IPY_MODEL_d606183336c54ec59059b1f0c77c9916",
            "placeholder": "​",
            "rows": null,
            "style": "IPY_MODEL_56d6b14ee4cc465fa532d126d6245359",
            "value": ""
          }
        },
        "d606183336c54ec59059b1f0c77c9916": {
          "model_module": "@jupyter-widgets/base",
          "model_name": "LayoutModel",
          "model_module_version": "1.2.0",
          "state": {
            "_model_module": "@jupyter-widgets/base",
            "_model_module_version": "1.2.0",
            "_model_name": "LayoutModel",
            "_view_count": null,
            "_view_module": "@jupyter-widgets/base",
            "_view_module_version": "1.2.0",
            "_view_name": "LayoutView",
            "align_content": null,
            "align_items": null,
            "align_self": null,
            "border": null,
            "bottom": null,
            "display": null,
            "flex": null,
            "flex_flow": null,
            "grid_area": null,
            "grid_auto_columns": null,
            "grid_auto_flow": null,
            "grid_auto_rows": null,
            "grid_column": null,
            "grid_gap": null,
            "grid_row": null,
            "grid_template_areas": null,
            "grid_template_columns": null,
            "grid_template_rows": null,
            "height": "40px",
            "justify_content": null,
            "justify_items": null,
            "left": null,
            "margin": null,
            "max_height": null,
            "max_width": null,
            "min_height": null,
            "min_width": null,
            "object_fit": null,
            "object_position": null,
            "order": null,
            "overflow": null,
            "overflow_x": null,
            "overflow_y": null,
            "padding": null,
            "right": null,
            "top": null,
            "visibility": null,
            "width": "300px"
          }
        },
        "56d6b14ee4cc465fa532d126d6245359": {
          "model_module": "@jupyter-widgets/controls",
          "model_name": "DescriptionStyleModel",
          "model_module_version": "1.5.0",
          "state": {
            "_model_module": "@jupyter-widgets/controls",
            "_model_module_version": "1.5.0",
            "_model_name": "DescriptionStyleModel",
            "_view_count": null,
            "_view_module": "@jupyter-widgets/base",
            "_view_module_version": "1.2.0",
            "_view_name": "StyleView",
            "description_width": ""
          }
        },
        "948161ac691c4e4880aa34ddd717f659": {
          "model_module": "@jupyter-widgets/controls",
          "model_name": "TextareaModel",
          "model_module_version": "1.5.0",
          "state": {
            "_dom_classes": [],
            "_model_module": "@jupyter-widgets/controls",
            "_model_module_version": "1.5.0",
            "_model_name": "TextareaModel",
            "_view_count": null,
            "_view_module": "@jupyter-widgets/controls",
            "_view_module_version": "1.5.0",
            "_view_name": "TextareaView",
            "continuous_update": true,
            "description": "TV Show:",
            "description_tooltip": null,
            "disabled": false,
            "layout": "IPY_MODEL_ba3cbb3ecbf54f13942823ce5c44e71a",
            "placeholder": "​",
            "rows": null,
            "style": "IPY_MODEL_788e17ce72fe4a7cae50e3af2340f3ec",
            "value": ""
          }
        },
        "ba3cbb3ecbf54f13942823ce5c44e71a": {
          "model_module": "@jupyter-widgets/base",
          "model_name": "LayoutModel",
          "model_module_version": "1.2.0",
          "state": {
            "_model_module": "@jupyter-widgets/base",
            "_model_module_version": "1.2.0",
            "_model_name": "LayoutModel",
            "_view_count": null,
            "_view_module": "@jupyter-widgets/base",
            "_view_module_version": "1.2.0",
            "_view_name": "LayoutView",
            "align_content": null,
            "align_items": null,
            "align_self": null,
            "border": null,
            "bottom": null,
            "display": null,
            "flex": null,
            "flex_flow": null,
            "grid_area": null,
            "grid_auto_columns": null,
            "grid_auto_flow": null,
            "grid_auto_rows": null,
            "grid_column": null,
            "grid_gap": null,
            "grid_row": null,
            "grid_template_areas": null,
            "grid_template_columns": null,
            "grid_template_rows": null,
            "height": "40px",
            "justify_content": null,
            "justify_items": null,
            "left": null,
            "margin": null,
            "max_height": null,
            "max_width": null,
            "min_height": null,
            "min_width": null,
            "object_fit": null,
            "object_position": null,
            "order": null,
            "overflow": null,
            "overflow_x": null,
            "overflow_y": null,
            "padding": null,
            "right": null,
            "top": null,
            "visibility": null,
            "width": "300px"
          }
        },
        "788e17ce72fe4a7cae50e3af2340f3ec": {
          "model_module": "@jupyter-widgets/controls",
          "model_name": "DescriptionStyleModel",
          "model_module_version": "1.5.0",
          "state": {
            "_model_module": "@jupyter-widgets/controls",
            "_model_module_version": "1.5.0",
            "_model_name": "DescriptionStyleModel",
            "_view_count": null,
            "_view_module": "@jupyter-widgets/base",
            "_view_module_version": "1.2.0",
            "_view_name": "StyleView",
            "description_width": ""
          }
        },
        "a06c5143a7d74d6dadff4d6e8d2ac780": {
          "model_module": "@jupyter-widgets/controls",
          "model_name": "ButtonModel",
          "model_module_version": "1.5.0",
          "state": {
            "_dom_classes": [],
            "_model_module": "@jupyter-widgets/controls",
            "_model_module_version": "1.5.0",
            "_model_name": "ButtonModel",
            "_view_count": null,
            "_view_module": "@jupyter-widgets/controls",
            "_view_module_version": "1.5.0",
            "_view_name": "ButtonView",
            "button_style": "",
            "description": "Save TV Show",
            "disabled": false,
            "icon": "",
            "layout": "IPY_MODEL_5b9865effc884b998528172dce46269d",
            "style": "IPY_MODEL_e7e6411b0ab44497b22453807c01322e",
            "tooltip": ""
          }
        },
        "5b9865effc884b998528172dce46269d": {
          "model_module": "@jupyter-widgets/base",
          "model_name": "LayoutModel",
          "model_module_version": "1.2.0",
          "state": {
            "_model_module": "@jupyter-widgets/base",
            "_model_module_version": "1.2.0",
            "_model_name": "LayoutModel",
            "_view_count": null,
            "_view_module": "@jupyter-widgets/base",
            "_view_module_version": "1.2.0",
            "_view_name": "LayoutView",
            "align_content": null,
            "align_items": null,
            "align_self": null,
            "border": null,
            "bottom": null,
            "display": null,
            "flex": null,
            "flex_flow": null,
            "grid_area": null,
            "grid_auto_columns": null,
            "grid_auto_flow": null,
            "grid_auto_rows": null,
            "grid_column": null,
            "grid_gap": null,
            "grid_row": null,
            "grid_template_areas": null,
            "grid_template_columns": null,
            "grid_template_rows": null,
            "height": null,
            "justify_content": null,
            "justify_items": null,
            "left": null,
            "margin": null,
            "max_height": null,
            "max_width": null,
            "min_height": null,
            "min_width": null,
            "object_fit": null,
            "object_position": null,
            "order": null,
            "overflow": null,
            "overflow_x": null,
            "overflow_y": null,
            "padding": null,
            "right": null,
            "top": null,
            "visibility": null,
            "width": null
          }
        },
        "e7e6411b0ab44497b22453807c01322e": {
          "model_module": "@jupyter-widgets/controls",
          "model_name": "ButtonStyleModel",
          "model_module_version": "1.5.0",
          "state": {
            "_model_module": "@jupyter-widgets/controls",
            "_model_module_version": "1.5.0",
            "_model_name": "ButtonStyleModel",
            "_view_count": null,
            "_view_module": "@jupyter-widgets/base",
            "_view_module_version": "1.2.0",
            "_view_name": "StyleView",
            "button_color": null,
            "font_weight": ""
          }
        },
        "74a402c1328a47b39825a716ea05755e": {
          "model_module": "@jupyter-widgets/controls",
          "model_name": "TextModel",
          "model_module_version": "1.5.0",
          "state": {
            "_dom_classes": [],
            "_model_module": "@jupyter-widgets/controls",
            "_model_module_version": "1.5.0",
            "_model_name": "TextModel",
            "_view_count": null,
            "_view_module": "@jupyter-widgets/controls",
            "_view_module_version": "1.5.0",
            "_view_name": "TextView",
            "continuous_update": true,
            "description": "",
            "description_tooltip": null,
            "disabled": false,
            "layout": "IPY_MODEL_0365cc56f9fe4ab79b9e6d805fd2b100",
            "placeholder": "​",
            "style": "IPY_MODEL_6e7af295c08f4c73a6762f09b5c987bf",
            "value": "Addition"
          }
        },
        "0365cc56f9fe4ab79b9e6d805fd2b100": {
          "model_module": "@jupyter-widgets/base",
          "model_name": "LayoutModel",
          "model_module_version": "1.2.0",
          "state": {
            "_model_module": "@jupyter-widgets/base",
            "_model_module_version": "1.2.0",
            "_model_name": "LayoutModel",
            "_view_count": null,
            "_view_module": "@jupyter-widgets/base",
            "_view_module_version": "1.2.0",
            "_view_name": "LayoutView",
            "align_content": null,
            "align_items": null,
            "align_self": null,
            "border": null,
            "bottom": null,
            "display": null,
            "flex": null,
            "flex_flow": null,
            "grid_area": null,
            "grid_auto_columns": null,
            "grid_auto_flow": null,
            "grid_auto_rows": null,
            "grid_column": null,
            "grid_gap": null,
            "grid_row": null,
            "grid_template_areas": null,
            "grid_template_columns": null,
            "grid_template_rows": null,
            "height": null,
            "justify_content": null,
            "justify_items": null,
            "left": null,
            "margin": null,
            "max_height": null,
            "max_width": null,
            "min_height": null,
            "min_width": null,
            "object_fit": null,
            "object_position": null,
            "order": null,
            "overflow": null,
            "overflow_x": null,
            "overflow_y": null,
            "padding": null,
            "right": null,
            "top": null,
            "visibility": null,
            "width": null
          }
        },
        "6e7af295c08f4c73a6762f09b5c987bf": {
          "model_module": "@jupyter-widgets/controls",
          "model_name": "DescriptionStyleModel",
          "model_module_version": "1.5.0",
          "state": {
            "_model_module": "@jupyter-widgets/controls",
            "_model_module_version": "1.5.0",
            "_model_name": "DescriptionStyleModel",
            "_view_count": null,
            "_view_module": "@jupyter-widgets/base",
            "_view_module_version": "1.2.0",
            "_view_name": "StyleView",
            "description_width": ""
          }
        },
        "7fecb66104c045f2b3d10b6be2976a73": {
          "model_module": "@jupyter-widgets/controls",
          "model_name": "DropdownModel",
          "model_module_version": "1.5.0",
          "state": {
            "_dom_classes": [],
            "_model_module": "@jupyter-widgets/controls",
            "_model_module_version": "1.5.0",
            "_model_name": "DropdownModel",
            "_options_labels": [
              "Addition",
              "Multiplication",
              "Subtraction",
              "Division"
            ],
            "_view_count": null,
            "_view_module": "@jupyter-widgets/controls",
            "_view_module_version": "1.5.0",
            "_view_name": "DropdownView",
            "description": "Task:",
            "description_tooltip": null,
            "disabled": false,
            "index": 0,
            "layout": "IPY_MODEL_d4aa3cabbefa4614b393d7dbfc8a9b15",
            "style": "IPY_MODEL_5df1b7b8b8a04c248476ce672e537803"
          }
        },
        "d4aa3cabbefa4614b393d7dbfc8a9b15": {
          "model_module": "@jupyter-widgets/base",
          "model_name": "LayoutModel",
          "model_module_version": "1.2.0",
          "state": {
            "_model_module": "@jupyter-widgets/base",
            "_model_module_version": "1.2.0",
            "_model_name": "LayoutModel",
            "_view_count": null,
            "_view_module": "@jupyter-widgets/base",
            "_view_module_version": "1.2.0",
            "_view_name": "LayoutView",
            "align_content": null,
            "align_items": null,
            "align_self": null,
            "border": null,
            "bottom": null,
            "display": null,
            "flex": null,
            "flex_flow": null,
            "grid_area": null,
            "grid_auto_columns": null,
            "grid_auto_flow": null,
            "grid_auto_rows": null,
            "grid_column": null,
            "grid_gap": null,
            "grid_row": null,
            "grid_template_areas": null,
            "grid_template_columns": null,
            "grid_template_rows": null,
            "height": null,
            "justify_content": null,
            "justify_items": null,
            "left": null,
            "margin": null,
            "max_height": null,
            "max_width": null,
            "min_height": null,
            "min_width": null,
            "object_fit": null,
            "object_position": null,
            "order": null,
            "overflow": null,
            "overflow_x": null,
            "overflow_y": null,
            "padding": null,
            "right": null,
            "top": null,
            "visibility": null,
            "width": null
          }
        },
        "5df1b7b8b8a04c248476ce672e537803": {
          "model_module": "@jupyter-widgets/controls",
          "model_name": "DescriptionStyleModel",
          "model_module_version": "1.5.0",
          "state": {
            "_model_module": "@jupyter-widgets/controls",
            "_model_module_version": "1.5.0",
            "_model_name": "DescriptionStyleModel",
            "_view_count": null,
            "_view_module": "@jupyter-widgets/base",
            "_view_module_version": "1.2.0",
            "_view_name": "StyleView",
            "description_width": ""
          }
        }
      }
    }
  },
  "cells": [
    {
      "cell_type": "markdown",
      "metadata": {
        "id": "view-in-github",
        "colab_type": "text"
      },
      "source": [
        "<a href=\"https://colab.research.google.com/github/matczu-97/CloudCourse/blob/main/Untitled1.ipynb\" target=\"_parent\"><img src=\"https://colab.research.google.com/assets/colab-badge.svg\" alt=\"Open In Colab\"/></a>"
      ]
    },
    {
      "cell_type": "code",
      "execution_count": 12,
      "metadata": {
        "colab": {
          "base_uri": "https://localhost:8080/"
        },
        "id": "ILikBy9tAFuu",
        "outputId": "5918545a-b557-4cfc-e071-884d428309f9"
      },
      "outputs": [
        {
          "output_type": "stream",
          "name": "stdout",
          "text": [
            "Drive already mounted at /content/drive; to attempt to forcibly remount, call drive.mount(\"/content/drive\", force_remount=True).\n"
          ]
        }
      ],
      "source": [
        "from google.colab import drive\n",
        "drive.mount('/content/drive')\n"
      ]
    },
    {
      "cell_type": "code",
      "source": [
        "\n",
        "from ipywidgets import widgets, HBox, Layout\n",
        "from IPython.display import display, clear_output, Markdown\n",
        "\n",
        "import time"
      ],
      "metadata": {
        "id": "beoGa_lsAJrm"
      },
      "execution_count": null,
      "outputs": []
    },
    {
      "cell_type": "code",
      "source": [
        "cd /content/drive/My Drive"
      ],
      "metadata": {
        "colab": {
          "base_uri": "https://localhost:8080/"
        },
        "id": "UYTRgBHsAn5L",
        "outputId": "3139cc50-4b21-4549-9713-68aeeeeef51e"
      },
      "execution_count": 14,
      "outputs": [
        {
          "output_type": "stream",
          "name": "stdout",
          "text": [
            "/content/drive/My Drive\n"
          ]
        }
      ]
    },
    {
      "cell_type": "code",
      "source": [
        "\n",
        "!ls \"/content/drive/MyDrive/\""
      ],
      "metadata": {
        "colab": {
          "base_uri": "https://localhost:8080/"
        },
        "id": "cJN2Vo3KANNM",
        "outputId": "a5e07542-6a8f-41ab-8658-b7b847b63ba1"
      },
      "execution_count": 15,
      "outputs": [
        {
          "output_type": "stream",
          "name": "stdout",
          "text": [
            " 1.txt\t'Colab Notebooks'   students.txt\n"
          ]
        }
      ]
    },
    {
      "cell_type": "code",
      "source": [
        "\n",
        "with open('students.txt', 'r') as file:\n",
        "    text = file.read()\n",
        "file.close()\n",
        "print(text)"
      ],
      "metadata": {
        "colab": {
          "base_uri": "https://localhost:8080/"
        },
        "id": "ZLX9cHadA54M",
        "outputId": "dbcb5e55-d3c2-464a-bd98-3cff561a56f3"
      },
      "execution_count": 17,
      "outputs": [
        {
          "output_type": "stream",
          "name": "stdout",
          "text": [
            "matan czuckermann,cz.matan,math english,www.google.com\n",
            "naor azran,cz.naro,math english,www.google.com\n"
          ]
        }
      ]
    },
    {
      "cell_type": "markdown",
      "source": [
        "class Student:\n",
        "    def __init__(self, name, email, courses, link):\n",
        "        self.name = name\n",
        "        self.email = email\n",
        "        self.courses = courses\n",
        "        self.link = link\n",
        "    def __str__(self):\n",
        "        return f\"Name: {self.name}, Email: {self.email}, Courses: {self.courses}, Link: {self.link}\"\n",
        "\n",
        "\n",
        "students = []\n",
        "names = []\n",
        "studentLine = 0\n",
        "\n",
        "for student_line in text.splitlines():\n",
        "    student_info = student_line.split(\",\")\n",
        "    student_new = Student(name=student_info[0], email=student_info[1], courses=student_info[2], link=student_info[3])\n",
        "    students.append(student_new)\n",
        "for student in students:\n",
        "  names.append(student.name)"
      ],
      "metadata": {
        "id": "4s4LAI_WA6jF"
      }
    },
    {
      "cell_type": "code",
      "source": [
        "class Student:\n",
        "    def __init__(self, name, email, courses, link):\n",
        "        self.name    = name\n",
        "        self.email   = email\n",
        "        self.courses = courses\n",
        "        self.link = link\n",
        "    def __str__(self):\n",
        "        return f\"Name: {self.name}, Email: {self.email}, Courses: {self.courses}, Link: {self.link}\"\n",
        "\n",
        "\n",
        "students    = []\n",
        "names       = []\n",
        "studentLine = 0\n",
        "\n",
        "for student_line in text.splitlines():\n",
        "    student_info = student_line.split(\",\")\n",
        "    student_new  = Student(name=student_info[0], email=student_info[1], courses=student_info[2], link=student_info[3])\n",
        "    students.append(student_new)\n",
        "for student in students:\n",
        "  names.append(student.name)"
      ],
      "metadata": {
        "id": "7VCqFpUaAPZI"
      },
      "execution_count": 18,
      "outputs": []
    },
    {
      "cell_type": "code",
      "source": [
        "# @title Students { form-width: \"100%\" }\n"
      ],
      "metadata": {
        "id": "Y6OY8G_PCPj9",
        "colab": {
          "base_uri": "https://localhost:8080/",
          "height": 34
        },
        "outputId": "375b794b-bfa6-4d00-f5db-425fcbc55032"
      },
      "execution_count": 46,
      "outputs": [
        {
          "output_type": "display_data",
          "data": {
            "text/plain": [
              "<IPython.core.display.HTML object>"
            ],
            "text/html": [
              "<style>b {color: white} body {background-color: black}</style>"
            ]
          },
          "metadata": {}
        },
        {
          "output_type": "display_data",
          "data": {
            "text/html": [
              "<b>student form</b>"
            ]
          },
          "metadata": {}
        }
      ]
    },
    {
      "cell_type": "code",
      "source": [
        "publish.css(\"b {color: white} body {background-color: black}\")\n",
        "IPython.display.display_html(\"<b>student form</b>\", raw=True)\n",
        "\n",
        "studentNameSelection = widgets.Dropdown(\n",
        "    options = names,\n",
        "    value   = None,\n",
        "    description = \"Student:\",\n",
        "    style={\"description_width\": \"initial\"},  # Set the description width to 'initial'\n",
        "    layout={\"width\": \"400px\"}  # Set the width of the dropdown\n",
        ")\n",
        "\n",
        "display(studentNameSelection)"
      ],
      "metadata": {
        "colab": {
          "base_uri": "https://localhost:8080/",
          "height": 66,
          "referenced_widgets": [
            "e136d41a6c1142a9bd1ad475ec4babc4",
            "c143bdcb13d74f9db8197db14623730e",
            "6bb3e15484994b45803fc1749ab38c2e"
          ]
        },
        "id": "xOx0FXQYEUEw",
        "outputId": "894c8dee-a654-41cc-e27b-d5ee94d89392"
      },
      "execution_count": 48,
      "outputs": [
        {
          "output_type": "display_data",
          "data": {
            "text/plain": [
              "<IPython.core.display.HTML object>"
            ],
            "text/html": [
              "<style>b {color: white} body {background-color: black}</style>"
            ]
          },
          "metadata": {}
        },
        {
          "output_type": "display_data",
          "data": {
            "text/html": [
              "<b>student form</b>"
            ]
          },
          "metadata": {}
        },
        {
          "output_type": "display_data",
          "data": {
            "text/plain": [
              "Dropdown(description='Student:', layout=Layout(width='400px'), options=('matan czuckermann', 'naor azran'), st…"
            ],
            "application/vnd.jupyter.widget-view+json": {
              "version_major": 2,
              "version_minor": 0,
              "model_id": "e136d41a6c1142a9bd1ad475ec4babc4"
            }
          },
          "metadata": {}
        }
      ]
    },
    {
      "cell_type": "code",
      "source": [
        "from os import SEEK_END\n",
        "publish.css(\"b {color: white} body {background-color:red}\")\n",
        "IPython.display.display_html(\"<b>student form</b>\", raw=True)\n",
        "\n",
        "#Create text areas for student information\n",
        "output_box_email   = widgets.Textarea(description=\"email:\", disabled=True, layout=Layout(width='300px', height='40px'))\n",
        "output_box_courses = widgets.Textarea(description=\"courses:\", disabled=True, layout=Layout(width='300px', height='40px'))\n",
        "output_box_link    = widgets.Textarea(description=\"link:\", disabled=True, layout=Layout(width='300px', height='40px'))\n",
        "input_box_TVshow = widgets.Textarea(description=\"TV Show:\", disabled=False, layout=Layout(width='300px', height='40px'))\n",
        "button_saveTVshow = widgets.Button(description=\"Save TV Show\")\n",
        "\n",
        "\n",
        "def on_change(change):\n",
        "    if change['type'] == 'change' and change['name'] == 'value':\n",
        "      student_index = names.index(change.new)\n",
        "      output_box_email.value   = students[student_index].email\n",
        "      output_box_courses.value = students[student_index].courses\n",
        "      output_box_link.value    = students[student_index].link\n",
        "\n",
        "def onClickSaveTvShow(change):\n",
        "  new_line = studentNameSelection.value +\", \"+output_box_email.value+\", \"+output_box_courses.value+\", \"+output_box_link.value+', '+input_box_TVshow.value+'\\n'\n",
        "  print(new_line)\n",
        "  with open('students.txt', 'a+') as write_file:\n",
        "    write_file.seek(SEEK_END)\n",
        "    write_file.write(new_line)\n",
        "  write_file.close()\n",
        "\n",
        "\n",
        "button_saveTVshow.on_click(onClickSaveTvShow)\n",
        "\n",
        "display(output_box_email,output_box_courses,output_box_link)\n",
        "display(input_box_TVshow, button_saveTVshow)\n",
        "\n",
        "studentNameSelection.observe(on_change)\n"
      ],
      "metadata": {
        "colab": {
          "base_uri": "https://localhost:8080/",
          "height": 236,
          "referenced_widgets": [
            "eb0f18c3f0d84e12afde5236a60393b8",
            "834fd1ca648940bdbb82f44d91a1d966",
            "b0970cac465d46bea8a376469166eae1",
            "2c0adb4da7cd4b589fb550a170f813b6",
            "faf4ded68191428394cea66bb9acf7fa",
            "5d2b2bb9c5144ec294c081c0bc201a3b",
            "40157e08f6ec4ca29932479f183bca85",
            "d606183336c54ec59059b1f0c77c9916",
            "56d6b14ee4cc465fa532d126d6245359",
            "948161ac691c4e4880aa34ddd717f659",
            "ba3cbb3ecbf54f13942823ce5c44e71a",
            "788e17ce72fe4a7cae50e3af2340f3ec",
            "a06c5143a7d74d6dadff4d6e8d2ac780",
            "5b9865effc884b998528172dce46269d",
            "e7e6411b0ab44497b22453807c01322e"
          ]
        },
        "id": "p8q4x2xFEpA9",
        "outputId": "9f15e795-67c2-48c9-ab6a-6b805b279a8d"
      },
      "execution_count": 55,
      "outputs": [
        {
          "output_type": "display_data",
          "data": {
            "text/plain": [
              "<IPython.core.display.HTML object>"
            ],
            "text/html": [
              "<style>b {color: white} body {background-color:red}</style>"
            ]
          },
          "metadata": {}
        },
        {
          "output_type": "display_data",
          "data": {
            "text/html": [
              "<b>student form</b>"
            ]
          },
          "metadata": {}
        },
        {
          "output_type": "display_data",
          "data": {
            "text/plain": [
              "Textarea(value='', description='email:', disabled=True, layout=Layout(height='40px', width='300px'))"
            ],
            "application/vnd.jupyter.widget-view+json": {
              "version_major": 2,
              "version_minor": 0,
              "model_id": "eb0f18c3f0d84e12afde5236a60393b8"
            }
          },
          "metadata": {}
        },
        {
          "output_type": "display_data",
          "data": {
            "text/plain": [
              "Textarea(value='', description='courses:', disabled=True, layout=Layout(height='40px', width='300px'))"
            ],
            "application/vnd.jupyter.widget-view+json": {
              "version_major": 2,
              "version_minor": 0,
              "model_id": "2c0adb4da7cd4b589fb550a170f813b6"
            }
          },
          "metadata": {}
        },
        {
          "output_type": "display_data",
          "data": {
            "text/plain": [
              "Textarea(value='', description='link:', disabled=True, layout=Layout(height='40px', width='300px'))"
            ],
            "application/vnd.jupyter.widget-view+json": {
              "version_major": 2,
              "version_minor": 0,
              "model_id": "40157e08f6ec4ca29932479f183bca85"
            }
          },
          "metadata": {}
        },
        {
          "output_type": "display_data",
          "data": {
            "text/plain": [
              "Textarea(value='', description='TV Show:', layout=Layout(height='40px', width='300px'))"
            ],
            "application/vnd.jupyter.widget-view+json": {
              "version_major": 2,
              "version_minor": 0,
              "model_id": "948161ac691c4e4880aa34ddd717f659"
            }
          },
          "metadata": {}
        },
        {
          "output_type": "display_data",
          "data": {
            "text/plain": [
              "Button(description='Save TV Show', style=ButtonStyle())"
            ],
            "application/vnd.jupyter.widget-view+json": {
              "version_major": 2,
              "version_minor": 0,
              "model_id": "a06c5143a7d74d6dadff4d6e8d2ac780"
            }
          },
          "metadata": {}
        }
      ]
    },
    {
      "cell_type": "code",
      "source": [
        "import IPython\n",
        "from IPython.core.display import display_html\n",
        "from typing import Text\n",
        "from ipywidgets import widgets\n",
        "from IPython.display import HTML\n",
        "from google.colab.output import _publish as publish\n",
        "publish.css(\"b {color: white} body {background-color: black}\")\n",
        "IPython.display.display_html(\"<b>student form</b>\", raw=True)\n",
        "w = widgets.Dropdown(\n",
        "    options=['Addition', 'Multiplication', 'Subtraction', 'Division'],\n",
        "    value='Addition',\n",
        "    description='Task:',\n",
        ")\n",
        "txt1=widgets.Text()\n",
        "txt1.value=\"1\"\n",
        "display(txt1)\n",
        "\n",
        "\n",
        "def on_change(change):\n",
        "    if change['type'] == 'change' and change['name'] == 'value':\n",
        "        print(\"changed to %s\" % change['new'])\n",
        "    txt1.value=w.value\n",
        "\n",
        "w.observe(on_change)\n",
        "\n",
        "display(w)\n"
      ],
      "metadata": {
        "colab": {
          "base_uri": "https://localhost:8080/",
          "height": 131,
          "referenced_widgets": [
            "74a402c1328a47b39825a716ea05755e",
            "0365cc56f9fe4ab79b9e6d805fd2b100",
            "6e7af295c08f4c73a6762f09b5c987bf",
            "7fecb66104c045f2b3d10b6be2976a73",
            "d4aa3cabbefa4614b393d7dbfc8a9b15",
            "5df1b7b8b8a04c248476ce672e537803"
          ]
        },
        "id": "yMlac5qdQKJw",
        "outputId": "5a915968-428f-4d00-d6dd-ad3d70e91d17"
      },
      "execution_count": 45,
      "outputs": [
        {
          "output_type": "display_data",
          "data": {
            "text/plain": [
              "<IPython.core.display.HTML object>"
            ],
            "text/html": [
              "<style>b {color: white} body {background-color: black}</style>"
            ]
          },
          "metadata": {}
        },
        {
          "output_type": "display_data",
          "data": {
            "text/html": [
              "<b>student form</b>"
            ]
          },
          "metadata": {}
        },
        {
          "output_type": "display_data",
          "data": {
            "text/plain": [
              "Text(value='1')"
            ],
            "application/vnd.jupyter.widget-view+json": {
              "version_major": 2,
              "version_minor": 0,
              "model_id": "74a402c1328a47b39825a716ea05755e"
            }
          },
          "metadata": {}
        },
        {
          "output_type": "display_data",
          "data": {
            "text/plain": [
              "Dropdown(description='Task:', options=('Addition', 'Multiplication', 'Subtraction', 'Division'), value='Additi…"
            ],
            "application/vnd.jupyter.widget-view+json": {
              "version_major": 2,
              "version_minor": 0,
              "model_id": "7fecb66104c045f2b3d10b6be2976a73"
            }
          },
          "metadata": {}
        },
        {
          "output_type": "stream",
          "name": "stdout",
          "text": [
            "changed to Multiplication\n",
            "changed to Addition\n"
          ]
        }
      ]
    },
    {
      "cell_type": "markdown",
      "source": [
        "studentNameSelection = widgets.Dropdown(\n",
        "    options = [student.name for student in students],\n",
        "    value = None,\n",
        "    description = \"Student:\"\n",
        ")\n",
        "display(studentNameSelection)\n",
        "#Create text areas for student information\n",
        "output_box_email = widgets.Textarea(description=\"email:\", disabled=True, layout=Layout(width='400px', height='100px'))\n",
        "output_box_courses = widgets.Textarea(description=\"courses:\", disabled=True, layout=Layout(width='400px', height='100px'))\n",
        "output_box_link = widgets.Textarea(description=\"link:\", disabled=True, layout=Layout(width='400px', height='100px'))\n",
        "#Display the text areas using HBox\n",
        "output_boxes = HBox([output_box_email, output_box_courses, output_box_link])\n",
        "\n",
        "#for TV show\n",
        "def addTvShowToStudentLine(tvShow):\n",
        "    with open('students.txt', 'r+') as file:\n",
        "        lines = file.readlines()\n",
        "\n",
        "        if 0 <= studentLine < len(lines):\n",
        "            lines[studentLine] = lines[studentLine] + \",\" + tvShow + \"\\n\"\n",
        "            #Move the file cursor to the beginning to overwrite the file\n",
        "            file.seek(0)\n",
        "            #Write the modified content back to the file (write the lines back to the file (with the changed content))\n",
        "            file.writelines(lines)\n",
        "\n",
        "            print(\"TV Show saved!\")\n",
        "        else:\n",
        "            print(f\"Invalid line number: {studentLine}\")\n",
        "\n",
        "    file.close()\n",
        "\n",
        "def onClickSaveTvShow(_):\n",
        "  student_TvShow_entered = input_box_TVshow.value\n",
        "  addTvShowToStudentLine(student_TvShow_entered)\n",
        "\n",
        "input_box_TVshow = widgets.Textarea(description=\"TV Show:\", disabled=False, layout=Layout(width='400px', height='100px'))\n",
        "button_saveTVshow = widgets.Button(description=\"Save TV Show\")\n",
        "button_saveTVshow.on_click(onClickSaveTvShow)\n",
        "\n",
        "#set the information of the student in the output_boxes\n",
        "def studentSelected(student_index):\n",
        "  global studentLine\n",
        "  studentLine = student_index\n",
        "  clear_output()\n",
        "  input_box_TVshow.value = \"\"\n",
        "  display(studentNameSelection, output_boxes, input_box_TVshow, button_saveTVshow)\n",
        "\n",
        "  output_box_email.value = students[student_index].email\n",
        "  s_courses = students[student_index].courses.replace(' ', '\\n')\n",
        "  output_box_courses.value = s_courses\n",
        "  output_box_link.value = students[student_index].link\n",
        "\n",
        "#Function to handle changes in the dropdown value\n",
        "def onSelectStudent(change):\n",
        "  selected_index = names.index(change.new)\n",
        "  studentSelected(selected_index)\n",
        "\n",
        "\n",
        "\n",
        "#Attach the observer to the dropdown widget\n",
        "studentNameSelection.observe(onSelectStudent, names='value')"
      ],
      "metadata": {
        "id": "02qZfKMkC3oP"
      }
    }
  ]
}